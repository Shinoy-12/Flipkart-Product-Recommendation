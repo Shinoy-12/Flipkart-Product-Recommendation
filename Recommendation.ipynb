{
  "nbformat": 4,
  "nbformat_minor": 0,
  "metadata": {
    "kernelspec": {
      "name": "python3",
      "display_name": "Python 3"
    },
    "language_info": {
      "codemirror_mode": {
        "name": "ipython",
        "version": 3
      },
      "file_extension": ".py",
      "mimetype": "text/x-python",
      "name": "python",
      "nbconvert_exporter": "python",
      "pygments_lexer": "ipython3",
      "version": "3.7.6"
    },
    "colab": {
      "name": "Question_2.ipynb",
      "provenance": [],
      "collapsed_sections": [],
      "machine_shape": "hm"
    },
    "accelerator": "TPU"
  },
  "cells": [
    {
      "cell_type": "code",
      "metadata": {
        "id": "tHYlmZaBdiOV",
        "colab_type": "code",
        "colab": {}
      },
      "source": [
        "import re\n",
        "from sklearn.feature_extraction.text import TfidfVectorizer\n",
        "import numpy as np # linear algebra\n",
        "import pandas as pd # data processing, CSV file I/O (e.g. pd.read_csv)\n",
        "import matplotlib.pyplot as plt\n",
        "import seaborn as sns\n",
        "from sklearn.metrics.pairwise import cosine_similarity\n",
        "from sklearn.neighbors import NearestNeighbors\n",
        "import warnings; warnings.simplefilter('ignore')\n",
        "%matplotlib inline\n",
        "from sklearn.decomposition import TruncatedSVD\n",
        "from sklearn import neighbors\n",
        "from sklearn.metrics import mean_squared_error \n",
        "from math import *\n",
        "from termcolor import colored"
      ],
      "execution_count": 0,
      "outputs": []
    },
    {
      "cell_type": "code",
      "metadata": {
        "id": "63krUWHAVX35",
        "colab_type": "code",
        "colab": {}
      },
      "source": [
        "df = pd.read_csv('ecommerce_sample_dataset.csv') # Reading the file"
      ],
      "execution_count": 0,
      "outputs": []
    },
    {
      "cell_type": "code",
      "metadata": {
        "id": "cKVm3HZ2diOk",
        "colab_type": "code",
        "outputId": "49e97db7-e1c7-41c5-aa81-764e0ea58e3a",
        "colab": {
          "base_uri": "https://localhost:8080/",
          "height": 289
        }
      },
      "source": [
        "df.isnull().sum() # Checking Null values"
      ],
      "execution_count": 8,
      "outputs": [
        {
          "output_type": "execute_result",
          "data": {
            "text/plain": [
              "uniq_id                       0\n",
              "crawl_timestamp               0\n",
              "product_url                   0\n",
              "product_name                  0\n",
              "product_category_tree         0\n",
              "pid                           0\n",
              "retail_price                 78\n",
              "discounted_price             78\n",
              "image                         3\n",
              "is_FK_Advantage_product       0\n",
              "description                   2\n",
              "product_rating                0\n",
              "overall_rating                0\n",
              "brand                      5864\n",
              "product_specifications       14\n",
              "dtype: int64"
            ]
          },
          "metadata": {
            "tags": []
          },
          "execution_count": 8
        }
      ]
    },
    {
      "cell_type": "markdown",
      "metadata": {
        "id": "IZEJ7-Uih_i3",
        "colab_type": "text"
      },
      "source": [
        "# Missing Values"
      ]
    },
    {
      "cell_type": "code",
      "metadata": {
        "id": "Xl1McKp4h-1o",
        "colab_type": "code",
        "colab": {
          "base_uri": "https://localhost:8080/",
          "height": 469
        },
        "outputId": "d691c54a-802e-4b09-b2f3-4ee0a05763ba"
      },
      "source": [
        "plt.figure(figsize=(10,4))\n",
        "sns.heatmap(df.isnull(),\n",
        "            cmap='plasma',\n",
        "            yticklabels=False,\n",
        "            cbar=False)\n",
        "plt.title('Missing Data?',fontsize=20)\n",
        "plt.xticks(fontsize=15)\n",
        "plt.show()"
      ],
      "execution_count": 9,
      "outputs": [
        {
          "output_type": "display_data",
          "data": {
            "image/png": "[encoded data removed]",
            "text/plain": [
              "<Figure size 720x288 with 1 Axes>"
            ]
          },
          "metadata": {
            "tags": [],
            "needs_background": "light"
          }
        }
      ]
    },
    {
      "cell_type": "code",
      "metadata": {
        "id": "ir019w4iioBt",
        "colab_type": "code",
        "colab": {
          "base_uri": "https://localhost:8080/",
          "height": 34
        },
        "outputId": "42213cab-61e6-44c0-cde4-445f0a81c306"
      },
      "source": [
        "x = 0\n",
        "for y in df['product_rating']:\n",
        "  if y=='No rating available':\n",
        "    x=x+1\n",
        "print(x)"
      ],
      "execution_count": 10,
      "outputs": [
        {
          "output_type": "stream",
          "text": [
            "18151\n"
          ],
          "name": "stdout"
        }
      ]
    },
    {
      "cell_type": "code",
      "metadata": {
        "id": "qRimAZGjk3i5",
        "colab_type": "code",
        "colab": {
          "base_uri": "https://localhost:8080/",
          "height": 353
        },
        "outputId": "6f332300-6621-4d4f-9a3f-0c221f0e9b81"
      },
      "source": [
        "rating_count = df['product_rating'].value_counts()\n",
        "rating_count = rating_count[:10,]\n",
        "plt.figure(figsize=(10,5))\n",
        "sns.barplot(rating_count.index, rating_count.values, alpha=0.8)\n",
        "plt.title('Product Rating')\n",
        "plt.ylabel('Counts', fontsize=12)\n",
        "plt.xlabel('Raating', fontsize=12)\n",
        "plt.show()"
      ],
      "execution_count": 11,
      "outputs": [
        {
          "output_type": "display_data",
          "data": {
            "image/png": "[encoded data removed]",
            "text/plain": [
              "<Figure size 720x360 with 1 Axes>"
            ]
          },
          "metadata": {
            "tags": [],
            "needs_background": "light"
          }
        }
      ]
    },
    {
      "cell_type": "markdown",
      "metadata": {
        "id": "3aH_VWCIazyl",
        "colab_type": "text"
      },
      "source": [
        "## Preprocessing"
      ]
    },
    {
      "cell_type": "code",
      "metadata": {
        "id": "PEYCRs5tdiOx",
        "colab_type": "code",
        "colab": {}
      },
      "source": [
        "df['disct_percentage']=(df['retail_price']-df['discounted_price'])/df['retail_price']\n",
        "df['disct_percentage']=np.round(df['disct_percentage'],2)"
      ],
      "execution_count": 0,
      "outputs": []
    },
    {
      "cell_type": "markdown",
      "metadata": {
        "id": "2W-_yuvha62_",
        "colab_type": "text"
      },
      "source": [
        "# Cleaning"
      ]
    },
    {
      "cell_type": "code",
      "metadata": {
        "id": "ymByTpqOdiO3",
        "colab_type": "code",
        "colab": {}
      },
      "source": [
        "df['product_category_tree'] = df['product_category_tree'].str.replace(r';|\\[|\\]|\\,|\\(|\\'|\\\"|\\)|\\.', '')\n",
        "df['product_category_tree'] = df['product_category_tree'].str.replace(r'\\d+', '')\n",
        "df['product_category_tree'] = df['product_category_tree'].str.replace(' ', '')\n",
        "df['product_category_tree'] = df['product_category_tree'].str.replace('>', ' ')"
      ],
      "execution_count": 0,
      "outputs": []
    },
    {
      "cell_type": "code",
      "metadata": {
        "id": "M0T9aewYdiPF",
        "colab_type": "code",
        "colab": {}
      },
      "source": [
        "df['product_rating']=df['product_rating'].replace('No rating available',np.NaN) # Replacing No rating available with NaN\n",
        "s = df[\"product_rating\"].astype(float).mean() # Calculating the mean of all the given rating\n",
        "df[\"product_rating\"] = df[\"product_rating\"].astype(float).subtract(s)\n",
        "df['product_rating'] = df['product_rating'].fillna(0)\n",
        "df['disct_percentage'] = df['disct_percentage'].fillna(0)        # Replacing NaN values with 0s"
      ],
      "execution_count": 0,
      "outputs": []
    },
    {
      "cell_type": "code",
      "metadata": {
        "id": "HYEwUvgGdiPa",
        "colab_type": "code",
        "colab": {}
      },
      "source": [
        "df.drop([\"uniq_id\", \"crawl_timestamp\" , \"product_url\" ,\"description\",\"brand\",\"product_specifications\" , \"image\" , \"pid\" , \"overall_rating\",\"retail_price\" , \"discounted_price\" ,\"is_FK_Advantage_product\", \"product_specifications\"] ,axis=1,inplace = True) # Dropping unwawnted columns "
      ],
      "execution_count": 0,
      "outputs": []
    },
    {
      "cell_type": "markdown",
      "metadata": {
        "id": "ltairE1kb5JP",
        "colab_type": "text"
      },
      "source": [
        "##How Data looks after Cleaning"
      ]
    },
    {
      "cell_type": "code",
      "metadata": {
        "id": "GeOnHiS0b9JA",
        "colab_type": "code",
        "colab": {
          "base_uri": "https://localhost:8080/",
          "height": 589
        },
        "outputId": "69a740fa-9579-4ebe-8596-b9529a896fed"
      },
      "source": [
        "df"
      ],
      "execution_count": 16,
      "outputs": [
        {
          "output_type": "execute_result",
          "data": {
            "text/html": [
              "<div>\n",
              "<style scoped>\n",
              "    .dataframe tbody tr th:only-of-type {\n",
              "        vertical-align: middle;\n",
              "    }\n",
              "\n",
              "    .dataframe tbody tr th {\n",
              "        vertical-align: top;\n",
              "    }\n",
              "\n",
              "    .dataframe thead th {\n",
              "        text-align: right;\n",
              "    }\n",
              "</style>\n",
              "<table border=\"1\" class=\"dataframe\">\n",
              "  <thead>\n",
              "    <tr style=\"text-align: right;\">\n",
              "      <th></th>\n",
              "      <th>product_name</th>\n",
              "      <th>product_category_tree</th>\n",
              "      <th>product_rating</th>\n",
              "      <th>disct_percentage</th>\n",
              "    </tr>\n",
              "  </thead>\n",
              "  <tbody>\n",
              "    <tr>\n",
              "      <th>0</th>\n",
              "      <td>Alisha Solid Women's Cycling Shorts</td>\n",
              "      <td>Clothing  WomensClothing  LingerieSleep&amp;Swimwe...</td>\n",
              "      <td>0.0</td>\n",
              "      <td>0.62</td>\n",
              "    </tr>\n",
              "    <tr>\n",
              "      <th>1</th>\n",
              "      <td>FabHomeDecor Fabric Double Sofa Bed</td>\n",
              "      <td>Furniture  LivingRoomFurniture  SofaBeds&amp;Futon...</td>\n",
              "      <td>0.0</td>\n",
              "      <td>0.30</td>\n",
              "    </tr>\n",
              "    <tr>\n",
              "      <th>2</th>\n",
              "      <td>AW Bellies</td>\n",
              "      <td>Footwear  WomensFootwear  Ballerinas  AWBellies</td>\n",
              "      <td>0.0</td>\n",
              "      <td>0.50</td>\n",
              "    </tr>\n",
              "    <tr>\n",
              "      <th>3</th>\n",
              "      <td>Alisha Solid Women's Cycling Shorts</td>\n",
              "      <td>Clothing  WomensClothing  LingerieSleep&amp;Swimwe...</td>\n",
              "      <td>0.0</td>\n",
              "      <td>0.62</td>\n",
              "    </tr>\n",
              "    <tr>\n",
              "      <th>4</th>\n",
              "      <td>Sicons All Purpose Arnica Dog Shampoo</td>\n",
              "      <td>PetSupplies  Grooming  Skin&amp;CoatCare  Shampoo ...</td>\n",
              "      <td>0.0</td>\n",
              "      <td>0.05</td>\n",
              "    </tr>\n",
              "    <tr>\n",
              "      <th>...</th>\n",
              "      <td>...</td>\n",
              "      <td>...</td>\n",
              "      <td>...</td>\n",
              "      <td>...</td>\n",
              "    </tr>\n",
              "    <tr>\n",
              "      <th>19995</th>\n",
              "      <td>WallDesign Small Vinyl Sticker</td>\n",
              "      <td>BabyCare  Baby&amp;KidsGifts  Stickers  WallDesign...</td>\n",
              "      <td>0.0</td>\n",
              "      <td>0.51</td>\n",
              "    </tr>\n",
              "    <tr>\n",
              "      <th>19996</th>\n",
              "      <td>Wallmantra Large Vinyl Stickers Sticker</td>\n",
              "      <td>BabyCare  Baby&amp;KidsGifts  Stickers  Wallmantra...</td>\n",
              "      <td>0.0</td>\n",
              "      <td>0.20</td>\n",
              "    </tr>\n",
              "    <tr>\n",
              "      <th>19997</th>\n",
              "      <td>Elite Collection Medium Acrylic Sticker</td>\n",
              "      <td>BabyCare  Baby&amp;KidsGifts  Stickers  EliteColle...</td>\n",
              "      <td>0.0</td>\n",
              "      <td>0.23</td>\n",
              "    </tr>\n",
              "    <tr>\n",
              "      <th>19998</th>\n",
              "      <td>Elite Collection Medium Acrylic Sticker</td>\n",
              "      <td>BabyCare  Baby&amp;KidsGifts  Stickers  EliteColle...</td>\n",
              "      <td>0.0</td>\n",
              "      <td>0.20</td>\n",
              "    </tr>\n",
              "    <tr>\n",
              "      <th>19999</th>\n",
              "      <td>Elite Collection Medium Acrylic Sticker</td>\n",
              "      <td>BabyCare  Baby&amp;KidsGifts  Stickers  EliteColle...</td>\n",
              "      <td>0.0</td>\n",
              "      <td>0.33</td>\n",
              "    </tr>\n",
              "  </tbody>\n",
              "</table>\n",
              "<p>20000 rows × 4 columns</p>\n",
              "</div>"
            ],
            "text/plain": [
              "                                  product_name  ... disct_percentage\n",
              "0          Alisha Solid Women's Cycling Shorts  ...             0.62\n",
              "1          FabHomeDecor Fabric Double Sofa Bed  ...             0.30\n",
              "2                                   AW Bellies  ...             0.50\n",
              "3          Alisha Solid Women's Cycling Shorts  ...             0.62\n",
              "4        Sicons All Purpose Arnica Dog Shampoo  ...             0.05\n",
              "...                                        ...  ...              ...\n",
              "19995           WallDesign Small Vinyl Sticker  ...             0.51\n",
              "19996  Wallmantra Large Vinyl Stickers Sticker  ...             0.20\n",
              "19997  Elite Collection Medium Acrylic Sticker  ...             0.23\n",
              "19998  Elite Collection Medium Acrylic Sticker  ...             0.20\n",
              "19999  Elite Collection Medium Acrylic Sticker  ...             0.33\n",
              "\n",
              "[20000 rows x 4 columns]"
            ]
          },
          "metadata": {
            "tags": []
          },
          "execution_count": 16
        }
      ]
    },
    {
      "cell_type": "markdown",
      "metadata": {
        "id": "-ieTzNHKblhS",
        "colab_type": "text"
      },
      "source": [
        "**Testing DataFrame**\n"
      ]
    },
    {
      "cell_type": "code",
      "metadata": {
        "id": "b4L3DHnudiPh",
        "colab_type": "code",
        "colab": {
          "base_uri": "https://localhost:8080/",
          "height": 204
        },
        "outputId": "0a56ede0-07e9-4c38-b9cf-fb68836d148f"
      },
      "source": [
        "d = {'product_category_tree' :['Jewellery BanglesBracelets&Armlets Bracelets TajPearlAlloyCuf','Watches WristWatches FranckBellaWristWatches','Clothing WomensClothing WesternWear Dresses&Skirts Dresses HugoChavezDresses','Furniture PetFurniture','HomeDecor&FestiveNeeds Showpieces ExoticIndiaShowpieces'] , 'product_rating' :['0.0' , '-0.207085','1.42','0.0','0.0'],'disct_percentage' : ['0.40', '0.50','0.6968','0.2004','0.032']}\n",
        "testing = pd.DataFrame(data = d)\n",
        "testing"
      ],
      "execution_count": 17,
      "outputs": [
        {
          "output_type": "execute_result",
          "data": {
            "text/html": [
              "<div>\n",
              "<style scoped>\n",
              "    .dataframe tbody tr th:only-of-type {\n",
              "        vertical-align: middle;\n",
              "    }\n",
              "\n",
              "    .dataframe tbody tr th {\n",
              "        vertical-align: top;\n",
              "    }\n",
              "\n",
              "    .dataframe thead th {\n",
              "        text-align: right;\n",
              "    }\n",
              "</style>\n",
              "<table border=\"1\" class=\"dataframe\">\n",
              "  <thead>\n",
              "    <tr style=\"text-align: right;\">\n",
              "      <th></th>\n",
              "      <th>product_category_tree</th>\n",
              "      <th>product_rating</th>\n",
              "      <th>disct_percentage</th>\n",
              "    </tr>\n",
              "  </thead>\n",
              "  <tbody>\n",
              "    <tr>\n",
              "      <th>0</th>\n",
              "      <td>Jewellery BanglesBracelets&amp;Armlets Bracelets T...</td>\n",
              "      <td>0.0</td>\n",
              "      <td>0.40</td>\n",
              "    </tr>\n",
              "    <tr>\n",
              "      <th>1</th>\n",
              "      <td>Watches WristWatches FranckBellaWristWatches</td>\n",
              "      <td>-0.207085</td>\n",
              "      <td>0.50</td>\n",
              "    </tr>\n",
              "    <tr>\n",
              "      <th>2</th>\n",
              "      <td>Clothing WomensClothing WesternWear Dresses&amp;Sk...</td>\n",
              "      <td>1.42</td>\n",
              "      <td>0.6968</td>\n",
              "    </tr>\n",
              "    <tr>\n",
              "      <th>3</th>\n",
              "      <td>Furniture PetFurniture</td>\n",
              "      <td>0.0</td>\n",
              "      <td>0.2004</td>\n",
              "    </tr>\n",
              "    <tr>\n",
              "      <th>4</th>\n",
              "      <td>HomeDecor&amp;FestiveNeeds Showpieces ExoticIndiaS...</td>\n",
              "      <td>0.0</td>\n",
              "      <td>0.032</td>\n",
              "    </tr>\n",
              "  </tbody>\n",
              "</table>\n",
              "</div>"
            ],
            "text/plain": [
              "                               product_category_tree  ... disct_percentage\n",
              "0  Jewellery BanglesBracelets&Armlets Bracelets T...  ...             0.40\n",
              "1       Watches WristWatches FranckBellaWristWatches  ...             0.50\n",
              "2  Clothing WomensClothing WesternWear Dresses&Sk...  ...           0.6968\n",
              "3                             Furniture PetFurniture  ...           0.2004\n",
              "4  HomeDecor&FestiveNeeds Showpieces ExoticIndiaS...  ...            0.032\n",
              "\n",
              "[5 rows x 3 columns]"
            ]
          },
          "metadata": {
            "tags": []
          },
          "execution_count": 17
        }
      ]
    },
    {
      "cell_type": "markdown",
      "metadata": {
        "id": "jXvtfXzBbxd4",
        "colab_type": "text"
      },
      "source": [
        "**Converting Text to Vectors using Tf-Idf**"
      ]
    },
    {
      "cell_type": "code",
      "metadata": {
        "id": "0jMytovhhWrz",
        "colab_type": "code",
        "colab": {}
      },
      "source": [
        "vec = TfidfVectorizer(strip_accents='unicode',\n",
        "               stop_words= 'english' )"
      ],
      "execution_count": 0,
      "outputs": []
    },
    {
      "cell_type": "code",
      "metadata": {
        "id": "8pXgOePWhWpX",
        "colab_type": "code",
        "colab": {}
      },
      "source": [
        "df1 = vec.fit_transform(df['product_category_tree']) # Fitting the tf-idf and then transform to vectors, Output is an array\n",
        "data1 = pd.DataFrame(df1.toarray(), columns=vec.get_feature_names()) # Converting array to DataFrame\n",
        "rest = df.drop([\"product_name\" , \"product_category_tree\"] , axis = 1)\n",
        "data2 = pd.concat([data1,rest] , axis=1) # Concatinate text vector , Rating and Discount columns"
      ],
      "execution_count": 0,
      "outputs": []
    },
    {
      "cell_type": "code",
      "metadata": {
        "id": "hH5dqi5Wjp0w",
        "colab_type": "code",
        "colab": {}
      },
      "source": [
        "svd = TruncatedSVD(n_components=9) # Dimension Reduction\n",
        "data3 = svd.fit_transform(data2)\n",
        "data = pd.DataFrame(data3)"
      ],
      "execution_count": 0,
      "outputs": []
    },
    {
      "cell_type": "markdown",
      "metadata": {
        "id": "Lkwyhjcicc91",
        "colab_type": "text"
      },
      "source": [
        "**Cosine Similarity**\n",
        "\n",
        "\n",
        "1.   Cosine similarity is used as our 'y', because in our Dataset around 18.5k rating were NaN so we cannot use Collaborative Item-Item Filtering\n",
        "\n",
        "\n"
      ]
    },
    {
      "cell_type": "code",
      "metadata": {
        "id": "-mdAoODkRQwl",
        "colab_type": "code",
        "colab": {}
      },
      "source": [
        "sim = cosine_similarity(data, data)\n",
        "l = list(df[\"product_name\"])\n",
        "df_sim = pd.DataFrame(sim, columns=l)\n",
        "df_sim = df_sim.loc[:,~df_sim.columns.duplicated()]  # Removing Duplicate Columns"
      ],
      "execution_count": 0,
      "outputs": []
    },
    {
      "cell_type": "markdown",
      "metadata": {
        "id": "w3MWg1_9dMBR",
        "colab_type": "text"
      },
      "source": [
        "# Top 6 predictions of our testing DataFrame\n",
        "\n",
        "\n",
        "1.   zz1 stores the top 6 predictions of First Row of Testing DataFrame\n",
        "2.   Similarly zz2 , zz3 and zz4\n",
        "\n"
      ]
    },
    {
      "cell_type": "code",
      "metadata": {
        "id": "0ItdXek_3Lu9",
        "colab_type": "code",
        "outputId": "bf76ba13-ce9f-4a61-be9c-c4c83744efed",
        "colab": {
          "base_uri": "https://localhost:8080/",
          "height": 136
        }
      },
      "source": [
        "zz = df_sim.iloc[326]\n",
        "zz1 = zz.sort_values(ascending=False)[:6]\n",
        "zz1"
      ],
      "execution_count": 22,
      "outputs": [
        {
          "output_type": "execute_result",
          "data": {
            "text/plain": [
              "Taj Pearl Alloy Cuff                     1.000000\n",
              "Jewel Touch Alloy, Resin Bracelet Set    0.999998\n",
              "Jewelizer Alloy Bracelet                 0.999998\n",
              "Nirosha Alloy Bracelet Set               0.999998\n",
              "DCA Brass Copper Bracelet                0.999998\n",
              "MKB Fabric Bangle                        0.999956\n",
              "Name: 326, dtype: float64"
            ]
          },
          "metadata": {
            "tags": []
          },
          "execution_count": 22
        }
      ]
    },
    {
      "cell_type": "code",
      "metadata": {
        "id": "D264AwOU4gb8",
        "colab_type": "code",
        "colab": {
          "base_uri": "https://localhost:8080/",
          "height": 136
        },
        "outputId": "39c6e3a4-8640-4d8a-855d-576d8d97cb3a"
      },
      "source": [
        "zz = df_sim.iloc[144]\n",
        "zz2 = zz.sort_values(ascending=False)[:6]\n",
        "zz2"
      ],
      "execution_count": 23,
      "outputs": [
        {
          "output_type": "execute_result",
          "data": {
            "text/plain": [
              "Franck Bella FB0122DD Analog Watch  - For Men, Boys        1.000000\n",
              "Franck Bella FB123D Analog Watch  - For Men, Boys          1.000000\n",
              "Franck Bella FB0128B Analog Watch  - For Men, Boys         1.000000\n",
              "Franck Bella FB127A Analog Watch  - For Boys, Men          1.000000\n",
              "Kool Kidz DMK-007-BL 01 Analog Watch  - For Boys, Girls    0.999997\n",
              "Tenda TE-PW201A                                            0.999986\n",
              "Name: 144, dtype: float64"
            ]
          },
          "metadata": {
            "tags": []
          },
          "execution_count": 23
        }
      ]
    },
    {
      "cell_type": "code",
      "metadata": {
        "id": "svyIeDprlkR1",
        "colab_type": "code",
        "colab": {
          "base_uri": "https://localhost:8080/",
          "height": 136
        },
        "outputId": "e37b216f-9c70-4702-94be-a2b6e2b070df"
      },
      "source": [
        "zz = df_sim.iloc[393]\n",
        "zz3 = zz.sort_values(ascending=False)[:6]\n",
        "zz3"
      ],
      "execution_count": 24,
      "outputs": [
        {
          "output_type": "execute_result",
          "data": {
            "text/plain": [
              "Ausy Casual Short Sleeve Floral Print Women's Top    1.000000\n",
              "Ausy Casual Short Sleeve Printed Women's Top         1.000000\n",
              "MERIL Casual Full Sleeve Printed Women's Top         0.999997\n",
              "Bebo Casual Full Sleeve Solid Women's Top            0.999996\n",
              "Klick2Style Casual Sleeveless Solid Women's Top      0.999996\n",
              "Albely Casual Short Sleeve Solid Women's Top         0.999996\n",
              "Name: 393, dtype: float64"
            ]
          },
          "metadata": {
            "tags": []
          },
          "execution_count": 24
        }
      ]
    },
    {
      "cell_type": "code",
      "metadata": {
        "id": "fiMfZgwelkPM",
        "colab_type": "code",
        "colab": {
          "base_uri": "https://localhost:8080/",
          "height": 136
        },
        "outputId": "da9e6a35-f8c8-4ece-8312-80937fc38818"
      },
      "source": [
        "zz = df_sim.iloc[16155]\n",
        "zz4 = zz.sort_values(ascending=False)[:6]\n",
        "zz4"
      ],
      "execution_count": 25,
      "outputs": [
        {
          "output_type": "execute_result",
          "data": {
            "text/plain": [
              "Jerry's Jppb11563 L Pet Bed     1.0\n",
              "Jerry's Jppb11584 XL Pet Bed    1.0\n",
              "Jerry's Jppb11562 M Pet Bed     1.0\n",
              "Jerry's Jppb11591 S Pet Bed     1.0\n",
              "Jerry's Jppb11552 M Pet Bed     1.0\n",
              "Pet Club51 PC278 M Pet Bed      1.0\n",
              "Name: 16155, dtype: float64"
            ]
          },
          "metadata": {
            "tags": []
          },
          "execution_count": 25
        }
      ]
    },
    {
      "cell_type": "code",
      "metadata": {
        "id": "Ip0m1ev8OrLy",
        "colab_type": "code",
        "colab": {
          "base_uri": "https://localhost:8080/",
          "height": 136
        },
        "outputId": "fc34e050-cdd6-488c-94da-ac422def5bd0"
      },
      "source": [
        "zz = df_sim.iloc[1566]\n",
        "zz5 = zz.sort_values(ascending=False)[:6]\n",
        "zz5"
      ],
      "execution_count": 26,
      "outputs": [
        {
          "output_type": "execute_result",
          "data": {
            "text/plain": [
              "Exotic India Vaishnava Symbols - Shankha And Chakra Showpiece  -  37 cm       1.000000\n",
              "Exotic India Adi Buddha Vajrasattva Showpiece  -  27.94 cm                    1.000000\n",
              "Exotic India Relaxing Ganesha Showpiece  -  11.43 cm                          1.000000\n",
              "Total Furnishing Jaipuri Handmade Painted Tray Showpiece  -  6 cm             0.999954\n",
              "Creativity Centre Ganesha Idol Doorhanging Wallhanging Showpiece  -  28 cm    0.999621\n",
              "Hawkins Stainless Steel 10 L Pressure Cooker                                  0.998728\n",
              "Name: 1566, dtype: float64"
            ]
          },
          "metadata": {
            "tags": []
          },
          "execution_count": 26
        }
      ]
    },
    {
      "cell_type": "markdown",
      "metadata": {
        "id": "6IVeMfr0duZk",
        "colab_type": "text"
      },
      "source": [
        "# Preprocessing on our testing DataFrame"
      ]
    },
    {
      "cell_type": "code",
      "metadata": {
        "id": "Njer8iZXsvek",
        "colab_type": "code",
        "colab": {}
      },
      "source": [
        "test = vec.transform(testing['product_category_tree'])\n",
        "df_test = pd.DataFrame(test.toarray())\n",
        "testing_set = testing.drop([\"product_category_tree\"] , axis = 1)\n",
        "df1 = pd.concat([df_test,testing_set] , axis=1)"
      ],
      "execution_count": 0,
      "outputs": []
    },
    {
      "cell_type": "code",
      "metadata": {
        "id": "A2jRUTeFtAzK",
        "colab_type": "code",
        "colab": {}
      },
      "source": [
        "df2 = svd.transform(df1)\n",
        "testp = pd.DataFrame(df2)"
      ],
      "execution_count": 0,
      "outputs": []
    },
    {
      "cell_type": "markdown",
      "metadata": {
        "id": "EPCVFwZXd3EV",
        "colab_type": "text"
      },
      "source": [
        "**Use of knn model and prediciting top 5 movie recommendation using Cosine Similarity as our y**\n",
        "\n",
        "*   As it is a Multi- Label Problem so we'll loop through each Column of y and find corresponding prediction\n",
        "*   Then taking out top 6 recommendations\n",
        "*   Finding RMSE values\n",
        "\n"
      ]
    },
    {
      "cell_type": "code",
      "metadata": {
        "id": "d5VA9O0JmqQW",
        "colab_type": "code",
        "colab": {}
      },
      "source": [
        "model = neighbors.KNeighborsRegressor(n_neighbors = 3)\n",
        "nn = []\n",
        "mm = []\n",
        "pp = []\n",
        "oo = []\n",
        "ll = []\n",
        "for c in df_sim.columns:\n",
        "    model.fit(data, df_sim[c])  #fit the model\n",
        "    l = model.predict(testp)\n",
        "    nn.append(l[0])\n",
        "    mm.append(l[1])\n",
        "    pp.append(l[2])\n",
        "    oo.append(l[3])\n",
        "    ll.append(l[4])"
      ],
      "execution_count": 0,
      "outputs": []
    },
    {
      "cell_type": "code",
      "metadata": {
        "id": "j5dtHDgpq2a9",
        "colab_type": "code",
        "colab": {}
      },
      "source": [
        "nn = list(enumerate(nn))\n",
        "mm = list(enumerate(mm))\n",
        "pp = list(enumerate(pp))\n",
        "oo = list(enumerate(oo))\n",
        "ll = list(enumerate(ll))"
      ],
      "execution_count": 0,
      "outputs": []
    },
    {
      "cell_type": "code",
      "metadata": {
        "id": "g9WUAuxXq2YK",
        "colab_type": "code",
        "outputId": "0972d0af-0edf-47d2-c316-64ab8c5d710c",
        "colab": {
          "base_uri": "https://localhost:8080/",
          "height": 332
        }
      },
      "source": [
        "nn = sorted(nn, key=lambda x:x[1] , reverse=True)\n",
        "predicted = []\n",
        "predicted1 = []\n",
        "i=0\n",
        "for ii,kk in nn:\n",
        "    print(df_sim.columns[ii] , kk)\n",
        "    predicted.append(df_sim.columns[ii])\n",
        "    predicted1.append(kk) \n",
        "    i = i+1\n",
        "    if i==6:\n",
        "        break\n",
        "actual = []\n",
        "for i in zz1:\n",
        "  actual.append(i)\n",
        "mse = mean_squared_error(actual,predicted1)\n",
        "rmse = sqrt(mse)\n",
        "print('\\n')\n",
        "print(\"The RMSE value of the 1st row is {}\".format(rmse))\n",
        "actual_data = pd.Series(zz1.index , name = \"Actual\")\n",
        "predicted_data = pd.Series(predicted , name = \"Predicted\")\n",
        "comparison = pd.DataFrame([actual_data,predicted_data] )\n",
        "comparison"
      ],
      "execution_count": 31,
      "outputs": [
        {
          "output_type": "stream",
          "text": [
            "Waama Jewels Metal Cubic Zirconia Yellow Gold Bracelet 0.9999859700440478\n",
            "Rubera Alloy Cubic Zirconia Bracelet 0.999971940088095\n",
            "Voylla Alloy Cubic Zirconia Yellow Gold Kada 0.9996843271409869\n",
            "Homeshopeez Metal Bracelet 0.9996843271409869\n",
            "Kenway Retail Brass Bangle 0.9995897466037159\n",
            "Shagun Trends Brass Diamond Yellow Gold Bangle Set 0.9995600643003443\n",
            "\n",
            "\n",
            "The RMSE value of the 1st row is 0.0002949166594497371\n"
          ],
          "name": "stdout"
        },
        {
          "output_type": "execute_result",
          "data": {
            "text/html": [
              "<div>\n",
              "<style scoped>\n",
              "    .dataframe tbody tr th:only-of-type {\n",
              "        vertical-align: middle;\n",
              "    }\n",
              "\n",
              "    .dataframe tbody tr th {\n",
              "        vertical-align: top;\n",
              "    }\n",
              "\n",
              "    .dataframe thead th {\n",
              "        text-align: right;\n",
              "    }\n",
              "</style>\n",
              "<table border=\"1\" class=\"dataframe\">\n",
              "  <thead>\n",
              "    <tr style=\"text-align: right;\">\n",
              "      <th></th>\n",
              "      <th>0</th>\n",
              "      <th>1</th>\n",
              "      <th>2</th>\n",
              "      <th>3</th>\n",
              "      <th>4</th>\n",
              "      <th>5</th>\n",
              "    </tr>\n",
              "  </thead>\n",
              "  <tbody>\n",
              "    <tr>\n",
              "      <th>Actual</th>\n",
              "      <td>Taj Pearl Alloy Cuff</td>\n",
              "      <td>Jewel Touch Alloy, Resin Bracelet Set</td>\n",
              "      <td>Jewelizer Alloy Bracelet</td>\n",
              "      <td>Nirosha Alloy Bracelet Set</td>\n",
              "      <td>DCA Brass Copper Bracelet</td>\n",
              "      <td>MKB Fabric Bangle</td>\n",
              "    </tr>\n",
              "    <tr>\n",
              "      <th>Predicted</th>\n",
              "      <td>Waama Jewels Metal Cubic Zirconia Yellow Gold ...</td>\n",
              "      <td>Rubera Alloy Cubic Zirconia Bracelet</td>\n",
              "      <td>Voylla Alloy Cubic Zirconia Yellow Gold Kada</td>\n",
              "      <td>Homeshopeez Metal Bracelet</td>\n",
              "      <td>Kenway Retail Brass Bangle</td>\n",
              "      <td>Shagun Trends Brass Diamond Yellow Gold Bangle...</td>\n",
              "    </tr>\n",
              "  </tbody>\n",
              "</table>\n",
              "</div>"
            ],
            "text/plain": [
              "                                                           0  ...                                                  5\n",
              "Actual                                  Taj Pearl Alloy Cuff  ...                                  MKB Fabric Bangle\n",
              "Predicted  Waama Jewels Metal Cubic Zirconia Yellow Gold ...  ...  Shagun Trends Brass Diamond Yellow Gold Bangle...\n",
              "\n",
              "[2 rows x 6 columns]"
            ]
          },
          "metadata": {
            "tags": []
          },
          "execution_count": 31
        }
      ]
    },
    {
      "cell_type": "code",
      "metadata": {
        "id": "fUBrPb0J5o1E",
        "colab_type": "code",
        "outputId": "2abf19a7-5ad0-44e4-b950-54cf6f804641",
        "colab": {
          "base_uri": "https://localhost:8080/",
          "height": 366
        }
      },
      "source": [
        "mm = sorted(mm, key=lambda x:x[1] , reverse=True)\n",
        "predicted2 = []\n",
        "predicted = []\n",
        "i=0\n",
        "for ii,kk in mm:\n",
        "    print(df_sim.columns[ii] , kk)\n",
        "    predicted.append(df_sim.columns[ii])\n",
        "    predicted2.append(kk) \n",
        "    i = i+1\n",
        "    if i==6:\n",
        "        break\n",
        "actual = []\n",
        "for i in zz2:\n",
        "  actual.append(i)\n",
        "mse = mean_squared_error(actual, predicted2)\n",
        "rmse = sqrt(mse)\n",
        "print('\\n')\n",
        "print(\"The RMSE value of the 2nd row is {}\".format(rmse))\n",
        "actual_data = pd.Series(zz2.index , name = \"Actual\")\n",
        "predicted_data = pd.Series(predicted , name = \"Predicted\")\n",
        "comparison = pd.DataFrame([actual_data,predicted_data] )\n",
        "comparison"
      ],
      "execution_count": 32,
      "outputs": [
        {
          "output_type": "stream",
          "text": [
            "Asus RT-N14UHP High Power Wireless-N300 3-in-1 Router/ AP/ Range Extender 0.9963385832822945\n",
            "SMC WBR14S 0.9960269601270849\n",
            "TP-LINK Archer C2 AC750 Wireless Dual Band Gigabit Router 0.9954033158314438\n",
            "TP-LINK TL-WA830RE 300 Mbps Wireless N Range Extender 0.9947956705184894\n",
            "Avon Little Black Dress Body Each 150 ml Combo Set 0.9945911135104454\n",
            "FabSeasons Fashion Fruit Art Faux Fur Pencil Boxes 0.9941415884392315\n",
            "\n",
            "\n",
            "The RMSE value of the 2nd row is 0.0048440803401962815\n"
          ],
          "name": "stdout"
        },
        {
          "output_type": "execute_result",
          "data": {
            "text/html": [
              "<div>\n",
              "<style scoped>\n",
              "    .dataframe tbody tr th:only-of-type {\n",
              "        vertical-align: middle;\n",
              "    }\n",
              "\n",
              "    .dataframe tbody tr th {\n",
              "        vertical-align: top;\n",
              "    }\n",
              "\n",
              "    .dataframe thead th {\n",
              "        text-align: right;\n",
              "    }\n",
              "</style>\n",
              "<table border=\"1\" class=\"dataframe\">\n",
              "  <thead>\n",
              "    <tr style=\"text-align: right;\">\n",
              "      <th></th>\n",
              "      <th>0</th>\n",
              "      <th>1</th>\n",
              "      <th>2</th>\n",
              "      <th>3</th>\n",
              "      <th>4</th>\n",
              "      <th>5</th>\n",
              "    </tr>\n",
              "  </thead>\n",
              "  <tbody>\n",
              "    <tr>\n",
              "      <th>Actual</th>\n",
              "      <td>Franck Bella FB0122DD Analog Watch  - For Men,...</td>\n",
              "      <td>Franck Bella FB123D Analog Watch  - For Men, Boys</td>\n",
              "      <td>Franck Bella FB0128B Analog Watch  - For Men, ...</td>\n",
              "      <td>Franck Bella FB127A Analog Watch  - For Boys, Men</td>\n",
              "      <td>Kool Kidz DMK-007-BL 01 Analog Watch  - For Bo...</td>\n",
              "      <td>Tenda TE-PW201A</td>\n",
              "    </tr>\n",
              "    <tr>\n",
              "      <th>Predicted</th>\n",
              "      <td>Asus RT-N14UHP High Power Wireless-N300 3-in-1...</td>\n",
              "      <td>SMC WBR14S</td>\n",
              "      <td>TP-LINK Archer C2 AC750 Wireless Dual Band Gig...</td>\n",
              "      <td>TP-LINK TL-WA830RE 300 Mbps Wireless N Range E...</td>\n",
              "      <td>Avon Little Black Dress Body Each 150 ml Combo...</td>\n",
              "      <td>FabSeasons Fashion Fruit Art Faux Fur Pencil B...</td>\n",
              "    </tr>\n",
              "  </tbody>\n",
              "</table>\n",
              "</div>"
            ],
            "text/plain": [
              "                                                           0  ...                                                  5\n",
              "Actual     Franck Bella FB0122DD Analog Watch  - For Men,...  ...                                    Tenda TE-PW201A\n",
              "Predicted  Asus RT-N14UHP High Power Wireless-N300 3-in-1...  ...  FabSeasons Fashion Fruit Art Faux Fur Pencil B...\n",
              "\n",
              "[2 rows x 6 columns]"
            ]
          },
          "metadata": {
            "tags": []
          },
          "execution_count": 32
        }
      ]
    },
    {
      "cell_type": "code",
      "metadata": {
        "id": "ZFiK5MVF5oxy",
        "colab_type": "code",
        "outputId": "1678de60-1a30-418f-b6f0-805197e6ae4b",
        "colab": {
          "base_uri": "https://localhost:8080/",
          "height": 349
        }
      },
      "source": [
        "pp = sorted(pp, key=lambda x:x[1] , reverse=True)\n",
        "predicted3 = []\n",
        "predicted = []\n",
        "i=0\n",
        "for ii,kk in pp:\n",
        "    print(df_sim.columns[ii] , kk)\n",
        "    predicted3.append(kk)\n",
        "    predicted.append(df_sim.columns[ii]) \n",
        "    i = i+1\n",
        "    if i==6:\n",
        "        break\n",
        "actual = []\n",
        "for i in zz3:\n",
        "  actual.append(i)\n",
        "mse = mean_squared_error(actual, predicted3)\n",
        "rmse = sqrt(mse)\n",
        "print('\\n')\n",
        "print(\"The RMSE value of the 3rd row is {}\".format(rmse))\n",
        "actual_data = pd.Series(zz3.index , name = \"Actual\")\n",
        "predicted_data = pd.Series(predicted , name = \"Predicted\")\n",
        "comparison = pd.DataFrame([actual_data,predicted_data] )\n",
        "comparison"
      ],
      "execution_count": 33,
      "outputs": [
        {
          "output_type": "stream",
          "text": [
            "maggie Women's Empire Waist Dress 0.9998600819889153\n",
            "LADY STARK Women's Maxi Dress 0.9996257528402045\n",
            "Hugo Chavez Women's Peplum Dress 0.9994957991522937\n",
            "Kashana Fashions Women's A-line Dress 0.9992454886082953\n",
            "Maggie Women's A-line Dress 0.9989646856011191\n",
            "Maggie Women's Gathered Dress 0.9983368822260629\n",
            "\n",
            "\n",
            "The RMSE value of the 3rd row is 0.0008933747864121483\n"
          ],
          "name": "stdout"
        },
        {
          "output_type": "execute_result",
          "data": {
            "text/html": [
              "<div>\n",
              "<style scoped>\n",
              "    .dataframe tbody tr th:only-of-type {\n",
              "        vertical-align: middle;\n",
              "    }\n",
              "\n",
              "    .dataframe tbody tr th {\n",
              "        vertical-align: top;\n",
              "    }\n",
              "\n",
              "    .dataframe thead th {\n",
              "        text-align: right;\n",
              "    }\n",
              "</style>\n",
              "<table border=\"1\" class=\"dataframe\">\n",
              "  <thead>\n",
              "    <tr style=\"text-align: right;\">\n",
              "      <th></th>\n",
              "      <th>0</th>\n",
              "      <th>1</th>\n",
              "      <th>2</th>\n",
              "      <th>3</th>\n",
              "      <th>4</th>\n",
              "      <th>5</th>\n",
              "    </tr>\n",
              "  </thead>\n",
              "  <tbody>\n",
              "    <tr>\n",
              "      <th>Actual</th>\n",
              "      <td>Ausy Casual Short Sleeve Floral Print Women's Top</td>\n",
              "      <td>Ausy Casual Short Sleeve Printed Women's Top</td>\n",
              "      <td>MERIL Casual Full Sleeve Printed Women's Top</td>\n",
              "      <td>Bebo Casual Full Sleeve Solid Women's Top</td>\n",
              "      <td>Klick2Style Casual Sleeveless Solid Women's Top</td>\n",
              "      <td>Albely Casual Short Sleeve Solid Women's Top</td>\n",
              "    </tr>\n",
              "    <tr>\n",
              "      <th>Predicted</th>\n",
              "      <td>maggie Women's Empire Waist Dress</td>\n",
              "      <td>LADY STARK Women's Maxi Dress</td>\n",
              "      <td>Hugo Chavez Women's Peplum Dress</td>\n",
              "      <td>Kashana Fashions Women's A-line Dress</td>\n",
              "      <td>Maggie Women's A-line Dress</td>\n",
              "      <td>Maggie Women's Gathered Dress</td>\n",
              "    </tr>\n",
              "  </tbody>\n",
              "</table>\n",
              "</div>"
            ],
            "text/plain": [
              "                                                           0  ...                                             5\n",
              "Actual     Ausy Casual Short Sleeve Floral Print Women's Top  ...  Albely Casual Short Sleeve Solid Women's Top\n",
              "Predicted                  maggie Women's Empire Waist Dress  ...                 Maggie Women's Gathered Dress\n",
              "\n",
              "[2 rows x 6 columns]"
            ]
          },
          "metadata": {
            "tags": []
          },
          "execution_count": 33
        }
      ]
    },
    {
      "cell_type": "code",
      "metadata": {
        "id": "e36JhSH-5ouW",
        "colab_type": "code",
        "outputId": "20e3f5e0-997e-4dbd-f9e8-2782a9c8b145",
        "colab": {
          "base_uri": "https://localhost:8080/",
          "height": 332
        }
      },
      "source": [
        "oo = sorted(oo, key=lambda x:x[1] , reverse=True)\n",
        "predicted4 = []\n",
        "predicted = []\n",
        "i=0\n",
        "for ii,kk in oo:\n",
        "    print(df_sim.columns[ii] , kk)\n",
        "    predicted4.append(kk) \n",
        "    predicted.append(df_sim.columns[ii])\n",
        "    i = i+1\n",
        "    if i==6:\n",
        "        break\n",
        "actual = []\n",
        "for i in zz4:\n",
        "  actual.append(i)\n",
        "mse = mean_squared_error(actual, predicted4)\n",
        "rmse = sqrt(mse)\n",
        "print('\\n')\n",
        "print(\"The RMSE value of the 4th row is {}\".format(rmse))\n",
        "actual_data = pd.Series(zz4.index , name = \"Actual\")\n",
        "predicted_data = pd.Series(predicted , name = \"Predicted\")\n",
        "comparison = pd.DataFrame([actual_data,predicted_data] )\n",
        "comparison"
      ],
      "execution_count": 34,
      "outputs": [
        {
          "output_type": "stream",
          "text": [
            "Petshop7 PS7DB0058 L Pet Bed 1.0000000000000002\n",
            "Petshop7 PS7DB0031 L Pet Bed 1.0000000000000002\n",
            "Bow! Wow!! ROUNDREDLALBIG L Pet Bed 1.0000000000000002\n",
            "Caprese Satchel 0.9999982856189634\n",
            "Stylocus Pouch Potli 0.9999946302129034\n",
            "Revlon Liquid powder foundation Foundation 0.9999938460867487\n",
            "\n",
            "\n",
            "The RMSE value of the 4th row is 3.344320965438501e-06\n"
          ],
          "name": "stdout"
        },
        {
          "output_type": "execute_result",
          "data": {
            "text/html": [
              "<div>\n",
              "<style scoped>\n",
              "    .dataframe tbody tr th:only-of-type {\n",
              "        vertical-align: middle;\n",
              "    }\n",
              "\n",
              "    .dataframe tbody tr th {\n",
              "        vertical-align: top;\n",
              "    }\n",
              "\n",
              "    .dataframe thead th {\n",
              "        text-align: right;\n",
              "    }\n",
              "</style>\n",
              "<table border=\"1\" class=\"dataframe\">\n",
              "  <thead>\n",
              "    <tr style=\"text-align: right;\">\n",
              "      <th></th>\n",
              "      <th>0</th>\n",
              "      <th>1</th>\n",
              "      <th>2</th>\n",
              "      <th>3</th>\n",
              "      <th>4</th>\n",
              "      <th>5</th>\n",
              "    </tr>\n",
              "  </thead>\n",
              "  <tbody>\n",
              "    <tr>\n",
              "      <th>Actual</th>\n",
              "      <td>Jerry's Jppb11563 L Pet Bed</td>\n",
              "      <td>Jerry's Jppb11584 XL Pet Bed</td>\n",
              "      <td>Jerry's Jppb11562 M Pet Bed</td>\n",
              "      <td>Jerry's Jppb11591 S Pet Bed</td>\n",
              "      <td>Jerry's Jppb11552 M Pet Bed</td>\n",
              "      <td>Pet Club51 PC278 M Pet Bed</td>\n",
              "    </tr>\n",
              "    <tr>\n",
              "      <th>Predicted</th>\n",
              "      <td>Petshop7 PS7DB0058 L Pet Bed</td>\n",
              "      <td>Petshop7 PS7DB0031 L Pet Bed</td>\n",
              "      <td>Bow! Wow!! ROUNDREDLALBIG L Pet Bed</td>\n",
              "      <td>Caprese Satchel</td>\n",
              "      <td>Stylocus Pouch Potli</td>\n",
              "      <td>Revlon Liquid powder foundation Foundation</td>\n",
              "    </tr>\n",
              "  </tbody>\n",
              "</table>\n",
              "</div>"
            ],
            "text/plain": [
              "                                      0  ...                                           5\n",
              "Actual      Jerry's Jppb11563 L Pet Bed  ...                  Pet Club51 PC278 M Pet Bed\n",
              "Predicted  Petshop7 PS7DB0058 L Pet Bed  ...  Revlon Liquid powder foundation Foundation\n",
              "\n",
              "[2 rows x 6 columns]"
            ]
          },
          "metadata": {
            "tags": []
          },
          "execution_count": 34
        }
      ]
    },
    {
      "cell_type": "code",
      "metadata": {
        "id": "S0IYtWhJQ40t",
        "colab_type": "code",
        "colab": {
          "base_uri": "https://localhost:8080/",
          "height": 332
        },
        "outputId": "e5952562-faf8-4196-d152-9a423ad75d1a"
      },
      "source": [
        "ll = sorted(ll, key=lambda x:x[1] , reverse=True)\n",
        "predicted = []\n",
        "predicted5 = []\n",
        "i=0\n",
        "for ii,kk in ll:\n",
        "    print(df_sim.columns[ii] , kk)\n",
        "    predicted.append(df_sim.columns[ii])\n",
        "    predicted5.append(kk) \n",
        "    i = i+1\n",
        "    if i==6:\n",
        "        break\n",
        "actual = []\n",
        "for i in zz5:\n",
        "  actual.append(i)\n",
        "mse = mean_squared_error(actual,predicted5)\n",
        "rmse = sqrt(mse)\n",
        "print('\\n')\n",
        "print(\"The RMSE value of the 1st row is {}\".format(rmse))\n",
        "actual_data = pd.Series(zz5.index , name = \"Actual\")\n",
        "predicted_data = pd.Series(predicted , name = \"Predicted\")\n",
        "comparison = pd.DataFrame([actual_data,predicted_data] )\n",
        "comparison"
      ],
      "execution_count": 35,
      "outputs": [
        {
          "output_type": "stream",
          "text": [
            "Exotic India Adi Buddha Vajrasattva Showpiece  -  27.94 cm 1.0\n",
            "Exotic India Vaishnava Symbols - Shankha And Chakra Showpiece  -  37 cm 1.0\n",
            "Exotic India Relaxing Ganesha Showpiece  -  11.43 cm 1.0\n",
            "Total Furnishing Jaipuri Handmade Painted Tray Showpiece  -  6 cm 0.9999536365625827\n",
            "Creativity Centre Ganesha Idol Doorhanging Wallhanging Showpiece  -  28 cm 0.9996212646532748\n",
            "Hawkins Stainless Steel 10 L Pressure Cooker 0.9987276271533932\n",
            "\n",
            "\n",
            "The RMSE value of the 1st row is 4.5324665183683945e-17\n"
          ],
          "name": "stdout"
        },
        {
          "output_type": "execute_result",
          "data": {
            "text/html": [
              "<div>\n",
              "<style scoped>\n",
              "    .dataframe tbody tr th:only-of-type {\n",
              "        vertical-align: middle;\n",
              "    }\n",
              "\n",
              "    .dataframe tbody tr th {\n",
              "        vertical-align: top;\n",
              "    }\n",
              "\n",
              "    .dataframe thead th {\n",
              "        text-align: right;\n",
              "    }\n",
              "</style>\n",
              "<table border=\"1\" class=\"dataframe\">\n",
              "  <thead>\n",
              "    <tr style=\"text-align: right;\">\n",
              "      <th></th>\n",
              "      <th>0</th>\n",
              "      <th>1</th>\n",
              "      <th>2</th>\n",
              "      <th>3</th>\n",
              "      <th>4</th>\n",
              "      <th>5</th>\n",
              "    </tr>\n",
              "  </thead>\n",
              "  <tbody>\n",
              "    <tr>\n",
              "      <th>Actual</th>\n",
              "      <td>Exotic India Vaishnava Symbols - Shankha And C...</td>\n",
              "      <td>Exotic India Adi Buddha Vajrasattva Showpiece ...</td>\n",
              "      <td>Exotic India Relaxing Ganesha Showpiece  -  11...</td>\n",
              "      <td>Total Furnishing Jaipuri Handmade Painted Tray...</td>\n",
              "      <td>Creativity Centre Ganesha Idol Doorhanging Wal...</td>\n",
              "      <td>Hawkins Stainless Steel 10 L Pressure Cooker</td>\n",
              "    </tr>\n",
              "    <tr>\n",
              "      <th>Predicted</th>\n",
              "      <td>Exotic India Adi Buddha Vajrasattva Showpiece ...</td>\n",
              "      <td>Exotic India Vaishnava Symbols - Shankha And C...</td>\n",
              "      <td>Exotic India Relaxing Ganesha Showpiece  -  11...</td>\n",
              "      <td>Total Furnishing Jaipuri Handmade Painted Tray...</td>\n",
              "      <td>Creativity Centre Ganesha Idol Doorhanging Wal...</td>\n",
              "      <td>Hawkins Stainless Steel 10 L Pressure Cooker</td>\n",
              "    </tr>\n",
              "  </tbody>\n",
              "</table>\n",
              "</div>"
            ],
            "text/plain": [
              "                                                           0  ...                                             5\n",
              "Actual     Exotic India Vaishnava Symbols - Shankha And C...  ...  Hawkins Stainless Steel 10 L Pressure Cooker\n",
              "Predicted  Exotic India Adi Buddha Vajrasattva Showpiece ...  ...  Hawkins Stainless Steel 10 L Pressure Cooker\n",
              "\n",
              "[2 rows x 6 columns]"
            ]
          },
          "metadata": {
            "tags": []
          },
          "execution_count": 35
        }
      ]
    }
  ]
}